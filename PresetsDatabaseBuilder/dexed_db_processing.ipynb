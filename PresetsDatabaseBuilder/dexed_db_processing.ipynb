{
 "cells": [
  {
   "cell_type": "markdown",
   "metadata": {},
   "source": [
    "# DX7/Dexed presets database  (Pre-)Processing\n",
    "\n",
    "\n",
    "\n",
    "## Duplicates removal"
   ]
  },
  {
   "cell_type": "code",
   "execution_count": 1,
   "metadata": {},
   "outputs": [],
   "source": [
    "import remove_duplicates\n",
    "\n",
    "# See remove_duplicates.py (__main__ part) for more features\n",
    "duplicates_remover = remove_duplicates.DuplicatesRemover(db_filename=\"./dexed_presets.sqlite\",\n",
    "                                                         log_filename=\"./remove_duplicates.log.txt\")"
   ]
  },
  {
   "cell_type": "code",
   "execution_count": null,
   "metadata": {
    "collapsed": true,
    "jupyter": {
     "outputs_hidden": true
    }
   },
   "outputs": [
    {
     "name": "stdout",
     "output_type": "stream",
     "text": [
      "(step 0/44952: presets removed by value: 0)\n",
      "(step 100/44952: presets removed by value: 108)\n",
      "(step 200/44952: presets removed by value: 207)\n",
      "(step 300/44952: presets removed by value: 303)\n",
      "(step 400/44952: presets removed by value: 408)\n",
      "(step 500/44952: presets removed by value: 525)\n",
      "(step 600/44952: presets removed by value: 622)\n",
      "(step 700/44952: presets removed by value: 705)\n",
      "(step 800/44952: presets removed by value: 863)\n",
      "(step 900/44952: presets removed by value: 976)\n",
      "(step 1000/44952: presets removed by value: 1065)\n",
      "(step 1100/44952: presets removed by value: 1184)\n",
      "(step 1200/44952: presets removed by value: 1290)\n",
      "(step 1300/44952: presets removed by value: 1406)\n",
      "(step 1400/44952: presets removed by value: 1506)\n",
      "(step 1500/44952: presets removed by value: 1579)\n",
      "(step 1600/44952: presets removed by value: 1649)\n",
      "(step 1700/44952: presets removed by value: 1757)\n",
      "(step 1800/44952: presets removed by value: 1915)\n",
      "(step 1900/44952: presets removed by value: 1976)\n",
      "(step 2000/44952: presets removed by value: 2057)\n",
      "(step 2100/44952: presets removed by value: 2194)\n",
      "(step 2200/44952: presets removed by value: 2279)\n",
      "(step 2300/44952: presets removed by value: 2366)\n",
      "(step 2400/44952: presets removed by value: 2479)\n",
      "(step 2500/44952: presets removed by value: 2550)\n",
      "(step 2600/44952: presets removed by value: 2630)\n",
      "(step 2700/44952: presets removed by value: 2730)\n",
      "(step 2800/44952: presets removed by value: 2796)\n",
      "(step 2900/44952: presets removed by value: 2921)\n",
      "(step 3000/44952: presets removed by value: 2985)\n",
      "(step 3100/44952: presets removed by value: 3037)\n",
      "(step 3200/44952: presets removed by value: 3119)\n",
      "(step 3300/44952: presets removed by value: 3218)\n",
      "(step 3400/44952: presets removed by value: 3283)\n",
      "(step 3500/44952: presets removed by value: 3354)\n",
      "(step 3600/44952: presets removed by value: 3493)\n",
      "(step 3700/44952: presets removed by value: 3603)\n",
      "(step 3800/44952: presets removed by value: 3705)\n",
      "(step 3900/44952: presets removed by value: 3800)\n",
      "(step 4000/44952: presets removed by value: 3894)\n",
      "(step 4100/44952: presets removed by value: 4005)\n",
      "(step 4200/44952: presets removed by value: 4159)\n",
      "(step 4300/44952: presets removed by value: 4267)\n",
      "(step 4400/44952: presets removed by value: 4396)\n",
      "(step 4500/44952: presets removed by value: 4497)\n",
      "(step 4600/44952: presets removed by value: 4577)\n",
      "(step 4700/44952: presets removed by value: 4644)\n",
      "(step 4800/44952: presets removed by value: 4696)\n",
      "(step 4900/44952: presets removed by value: 4759)\n",
      "(step 5000/44952: presets removed by value: 4863)\n",
      "(step 5100/44952: presets removed by value: 4927)\n",
      "(step 5200/44952: presets removed by value: 5012)\n",
      "(step 5300/44952: presets removed by value: 5085)\n",
      "(step 5400/44952: presets removed by value: 5157)\n",
      "(step 5500/44952: presets removed by value: 5208)\n",
      "(step 5600/44952: presets removed by value: 5286)\n",
      "(step 5700/44952: presets removed by value: 5378)\n",
      "(step 5800/44952: presets removed by value: 5458)\n",
      "(step 5900/44952: presets removed by value: 5502)\n",
      "(step 6000/44952: presets removed by value: 5588)\n",
      "(step 6100/44952: presets removed by value: 5659)\n",
      "(step 6200/44952: presets removed by value: 5711)\n",
      "(step 6300/44952: presets removed by value: 5799)\n",
      "(step 6400/44952: presets removed by value: 5873)\n",
      "(step 6500/44952: presets removed by value: 5948)\n",
      "(step 6600/44952: presets removed by value: 6074)\n",
      "(step 6700/44952: presets removed by value: 6141)\n",
      "(step 6800/44952: presets removed by value: 6240)\n",
      "(step 6900/44952: presets removed by value: 6344)\n",
      "(step 7000/44952: presets removed by value: 6416)\n",
      "(step 7100/44952: presets removed by value: 6518)\n",
      "(step 7200/44952: presets removed by value: 6588)\n",
      "(step 7300/44952: presets removed by value: 6726)\n",
      "(step 7400/44952: presets removed by value: 6796)\n",
      "(step 7500/44952: presets removed by value: 6919)\n",
      "(step 7600/44952: presets removed by value: 7092)\n",
      "(step 7700/44952: presets removed by value: 7180)\n"
     ]
    }
   ],
   "source": [
    "#duplicates_remover.remove_by_name()\n",
    "#cur.execute(\"ALTER TABLE preset ADD other_names TEXT;\")\n",
    "#duplicates_remover.remove_by_value()  # Very, very long computation on large databases\n",
    "duplicates_remover.conn.close()"
   ]
  },
  {
   "cell_type": "code",
   "execution_count": 3,
   "metadata": {},
   "outputs": [],
   "source": [
    "# Vacuuming\n",
    "duplicates_remover = remove_duplicates.DuplicatesRemover(db_filename=\"./dexed_presets.sqlite\",\n",
    "                                                         log_filename=\"./remove_duplicates.log.txt\")\n",
    "#duplicates_remover.cur.execute(\"VACUUM;\")\n",
    "duplicates_remover.conn.close()"
   ]
  },
  {
   "cell_type": "code",
   "execution_count": null,
   "metadata": {},
   "outputs": [],
   "source": []
  }
 ],
 "metadata": {
  "kernelspec": {
   "display_name": "Python 3",
   "language": "python",
   "name": "python3"
  },
  "language_info": {
   "codemirror_mode": {
    "name": "ipython",
    "version": 3
   },
   "file_extension": ".py",
   "mimetype": "text/x-python",
   "name": "python",
   "nbconvert_exporter": "python",
   "pygments_lexer": "ipython3",
   "version": "3.7.6"
  }
 },
 "nbformat": 4,
 "nbformat_minor": 4
}
